{
 "cells": [
  {
   "cell_type": "code",
   "execution_count": 1,
   "metadata": {
    "scrolled": true
   },
   "outputs": [],
   "source": [
    "import pandas as pd\n",
    "\n",
    "import seaborn as sns\n",
    "import matplotlib.pyplot as plt\n",
    "import scikitplot as skplt\n",
    "\n",
    "import warnings\n",
    "import imblearn\n",
    "\n",
    "from sklearn.linear_model import LogisticRegression\n",
    "from sklearn.tree import DecisionTreeClassifier\n",
    "from sklearn.ensemble import RandomForestClassifier\n",
    "from sklearn.ensemble import GradientBoostingClassifier\n",
    "from sklearn.ensemble import AdaBoostClassifier\n",
    "from sklearn.ensemble import ExtraTreesClassifier\n",
    "from sklearn.neighbors import KNeighborsClassifier\n",
    "from sklearn.svm import SVC\n",
    "from sklearn.naive_bayes import MultinomialNB\n",
    "\n",
    "from sklearn.metrics import accuracy_score\n",
    "from sklearn.metrics import precision_score\n",
    "from sklearn.metrics import recall_score\n",
    "from sklearn.metrics import confusion_matrix\n",
    "from sklearn.metrics import classification_report\n",
    "from sklearn.metrics import roc_curve\n",
    "from sklearn.metrics import auc"
   ]
  },
  {
   "cell_type": "code",
   "execution_count": 2,
   "metadata": {},
   "outputs": [],
   "source": [
    "warnings.filterwarnings(\"ignore\")"
   ]
  },
  {
   "cell_type": "code",
   "execution_count": 3,
   "metadata": {
    "scrolled": true
   },
   "outputs": [],
   "source": [
    "df = pd.read_csv('public_ac_n_c_final.csv')"
   ]
  },
  {
   "cell_type": "code",
   "execution_count": 4,
   "metadata": {},
   "outputs": [
    {
     "data": {
      "text/html": [
       "<div>\n",
       "<style scoped>\n",
       "    .dataframe tbody tr th:only-of-type {\n",
       "        vertical-align: middle;\n",
       "    }\n",
       "\n",
       "    .dataframe tbody tr th {\n",
       "        vertical-align: top;\n",
       "    }\n",
       "\n",
       "    .dataframe thead th {\n",
       "        text-align: right;\n",
       "    }\n",
       "</style>\n",
       "<table border=\"1\" class=\"dataframe\">\n",
       "  <thead>\n",
       "    <tr style=\"text-align: right;\">\n",
       "      <th></th>\n",
       "      <th>Unnamed: 0</th>\n",
       "      <th>fqdn</th>\n",
       "      <th>vt_duration</th>\n",
       "      <th>vt_count</th>\n",
       "      <th>vt_mal_count</th>\n",
       "      <th>vt_ratio</th>\n",
       "      <th>firstseen</th>\n",
       "      <th>lastseen</th>\n",
       "      <th>#query</th>\n",
       "      <th>#ip</th>\n",
       "      <th>...</th>\n",
       "      <th>mean_path_length_per_subdomain_paths</th>\n",
       "      <th>mean_number_of_popular_keywords_per_subdomain_paths</th>\n",
       "      <th>url_length</th>\n",
       "      <th>#query_parameters</th>\n",
       "      <th>#dots_in_path</th>\n",
       "      <th>#brands_in_path</th>\n",
       "      <th>#similar_keywords_in_path</th>\n",
       "      <th>#suspicious_keywords_in_path</th>\n",
       "      <th>Alexa_Rank_Avg</th>\n",
       "      <th>Is_FQDN_In_Alexa_1Year</th>\n",
       "    </tr>\n",
       "  </thead>\n",
       "  <tbody>\n",
       "    <tr>\n",
       "      <td>0</td>\n",
       "      <td>0</td>\n",
       "      <td>bankofamericatec.webcindario.com</td>\n",
       "      <td>9417600.0</td>\n",
       "      <td>12.0</td>\n",
       "      <td>12.0</td>\n",
       "      <td>1.0</td>\n",
       "      <td>NaN</td>\n",
       "      <td>NaN</td>\n",
       "      <td>NaN</td>\n",
       "      <td>NaN</td>\n",
       "      <td>...</td>\n",
       "      <td>3.299454</td>\n",
       "      <td>0.0</td>\n",
       "      <td>81</td>\n",
       "      <td>1</td>\n",
       "      <td>2</td>\n",
       "      <td>1</td>\n",
       "      <td>0</td>\n",
       "      <td>0</td>\n",
       "      <td>1000000.0</td>\n",
       "      <td>False</td>\n",
       "    </tr>\n",
       "    <tr>\n",
       "      <td>1</td>\n",
       "      <td>1</td>\n",
       "      <td>ftp.tamraj.fartit.com</td>\n",
       "      <td>41644800.0</td>\n",
       "      <td>54.0</td>\n",
       "      <td>54.0</td>\n",
       "      <td>1.0</td>\n",
       "      <td>2017-04-12 03:57:25</td>\n",
       "      <td>2020-09-29 23:10:27</td>\n",
       "      <td>234833.0</td>\n",
       "      <td>2.0</td>\n",
       "      <td>...</td>\n",
       "      <td>0.000000</td>\n",
       "      <td>0.0</td>\n",
       "      <td>62</td>\n",
       "      <td>1</td>\n",
       "      <td>3</td>\n",
       "      <td>0</td>\n",
       "      <td>0</td>\n",
       "      <td>0</td>\n",
       "      <td>1000000.0</td>\n",
       "      <td>False</td>\n",
       "    </tr>\n",
       "    <tr>\n",
       "      <td>2</td>\n",
       "      <td>2</td>\n",
       "      <td>bluewin5.godaddysites.com</td>\n",
       "      <td>43891200.0</td>\n",
       "      <td>49.0</td>\n",
       "      <td>49.0</td>\n",
       "      <td>1.0</td>\n",
       "      <td>2018-06-22 10:01:56</td>\n",
       "      <td>2020-08-11 19:36:27</td>\n",
       "      <td>590.0</td>\n",
       "      <td>1.0</td>\n",
       "      <td>...</td>\n",
       "      <td>0.000000</td>\n",
       "      <td>0.0</td>\n",
       "      <td>66</td>\n",
       "      <td>1</td>\n",
       "      <td>2</td>\n",
       "      <td>0</td>\n",
       "      <td>0</td>\n",
       "      <td>0</td>\n",
       "      <td>1000000.0</td>\n",
       "      <td>False</td>\n",
       "    </tr>\n",
       "    <tr>\n",
       "      <td>3</td>\n",
       "      <td>3</td>\n",
       "      <td>appleid-applepage8.serveirc.com</td>\n",
       "      <td>4147200.0</td>\n",
       "      <td>10.0</td>\n",
       "      <td>10.0</td>\n",
       "      <td>1.0</td>\n",
       "      <td>2019-05-05 00:01:14</td>\n",
       "      <td>2019-05-08 18:08:38</td>\n",
       "      <td>132.0</td>\n",
       "      <td>1.0</td>\n",
       "      <td>...</td>\n",
       "      <td>0.000000</td>\n",
       "      <td>0.0</td>\n",
       "      <td>82</td>\n",
       "      <td>1</td>\n",
       "      <td>2</td>\n",
       "      <td>1</td>\n",
       "      <td>0</td>\n",
       "      <td>0</td>\n",
       "      <td>1000000.0</td>\n",
       "      <td>False</td>\n",
       "    </tr>\n",
       "    <tr>\n",
       "      <td>4</td>\n",
       "      <td>4</td>\n",
       "      <td>paypl-secureded.000webhostapp.com</td>\n",
       "      <td>2764800.0</td>\n",
       "      <td>4.0</td>\n",
       "      <td>4.0</td>\n",
       "      <td>1.0</td>\n",
       "      <td>NaN</td>\n",
       "      <td>NaN</td>\n",
       "      <td>NaN</td>\n",
       "      <td>NaN</td>\n",
       "      <td>...</td>\n",
       "      <td>0.489898</td>\n",
       "      <td>0.0</td>\n",
       "      <td>81</td>\n",
       "      <td>1</td>\n",
       "      <td>2</td>\n",
       "      <td>0</td>\n",
       "      <td>0</td>\n",
       "      <td>0</td>\n",
       "      <td>1000000.0</td>\n",
       "      <td>False</td>\n",
       "    </tr>\n",
       "  </tbody>\n",
       "</table>\n",
       "<p>5 rows × 44 columns</p>\n",
       "</div>"
      ],
      "text/plain": [
       "   Unnamed: 0                               fqdn  vt_duration  vt_count  \\\n",
       "0           0   bankofamericatec.webcindario.com    9417600.0      12.0   \n",
       "1           1              ftp.tamraj.fartit.com   41644800.0      54.0   \n",
       "2           2          bluewin5.godaddysites.com   43891200.0      49.0   \n",
       "3           3    appleid-applepage8.serveirc.com    4147200.0      10.0   \n",
       "4           4  paypl-secureded.000webhostapp.com    2764800.0       4.0   \n",
       "\n",
       "   vt_mal_count  vt_ratio            firstseen             lastseen    #query  \\\n",
       "0          12.0       1.0                  NaN                  NaN       NaN   \n",
       "1          54.0       1.0  2017-04-12 03:57:25  2020-09-29 23:10:27  234833.0   \n",
       "2          49.0       1.0  2018-06-22 10:01:56  2020-08-11 19:36:27     590.0   \n",
       "3          10.0       1.0  2019-05-05 00:01:14  2019-05-08 18:08:38     132.0   \n",
       "4           4.0       1.0                  NaN                  NaN       NaN   \n",
       "\n",
       "   #ip  ...  mean_path_length_per_subdomain_paths  \\\n",
       "0  NaN  ...                              3.299454   \n",
       "1  2.0  ...                              0.000000   \n",
       "2  1.0  ...                              0.000000   \n",
       "3  1.0  ...                              0.000000   \n",
       "4  NaN  ...                              0.489898   \n",
       "\n",
       "  mean_number_of_popular_keywords_per_subdomain_paths  url_length  \\\n",
       "0                                                0.0           81   \n",
       "1                                                0.0           62   \n",
       "2                                                0.0           66   \n",
       "3                                                0.0           82   \n",
       "4                                                0.0           81   \n",
       "\n",
       "  #query_parameters  #dots_in_path  #brands_in_path #similar_keywords_in_path  \\\n",
       "0                 1              2                1                         0   \n",
       "1                 1              3                0                         0   \n",
       "2                 1              2                0                         0   \n",
       "3                 1              2                1                         0   \n",
       "4                 1              2                0                         0   \n",
       "\n",
       "  #suspicious_keywords_in_path Alexa_Rank_Avg Is_FQDN_In_Alexa_1Year  \n",
       "0                            0      1000000.0                  False  \n",
       "1                            0      1000000.0                  False  \n",
       "2                            0      1000000.0                  False  \n",
       "3                            0      1000000.0                  False  \n",
       "4                            0      1000000.0                  False  \n",
       "\n",
       "[5 rows x 44 columns]"
      ]
     },
     "execution_count": 4,
     "metadata": {},
     "output_type": "execute_result"
    }
   ],
   "source": [
    "df.head(5)"
   ]
  },
  {
   "cell_type": "code",
   "execution_count": 5,
   "metadata": {
    "scrolled": true
   },
   "outputs": [
    {
     "data": {
      "text/plain": [
       "Index(['Unnamed: 0', 'fqdn', 'vt_duration', 'vt_count', 'vt_mal_count',\n",
       "       'vt_ratio', 'firstseen', 'lastseen', '#query', '#ip', '#ns',\n",
       "       'ns_matching', '#soa', 'soa_matching', 'label', 'positives',\n",
       "       'response_code', 'rlength', 'url_after_redirects', 'url',\n",
       "       'domain_malicious', 'suspicious_tld', 'length', 'entropy', 'fake_tld',\n",
       "       'brand', 'pop_keywords', 'similar', 'is_idn', 'minus', 'num_subdomains',\n",
       "       'mean_urls_per_subdomain', 'mean_path_depth_per_subdomain',\n",
       "       'mean_query_parameters_per_subdomain_paths',\n",
       "       'mean_path_length_per_subdomain_paths',\n",
       "       'mean_number_of_popular_keywords_per_subdomain_paths', 'url_length',\n",
       "       '#query_parameters', '#dots_in_path', '#brands_in_path',\n",
       "       '#similar_keywords_in_path', '#suspicious_keywords_in_path',\n",
       "       'Alexa_Rank_Avg', 'Is_FQDN_In_Alexa_1Year'],\n",
       "      dtype='object')"
      ]
     },
     "execution_count": 5,
     "metadata": {},
     "output_type": "execute_result"
    }
   ],
   "source": [
    "df.columns"
   ]
  },
  {
   "cell_type": "code",
   "execution_count": 6,
   "metadata": {
    "scrolled": true
   },
   "outputs": [],
   "source": [
    "df = df[['fqdn', 'vt_duration', 'vt_count', 'vt_mal_count',\n",
    "       'vt_ratio', 'firstseen', 'lastseen', '#query', '#ip', '#ns',\n",
    "       'ns_matching', '#soa', 'soa_matching', 'label', 'positives',\n",
    "       'response_code', 'rlength', 'url_after_redirects', 'url',\n",
    "       'domain_malicious', 'suspicious_tld', 'length', 'entropy', 'fake_tld',\n",
    "       'brand', 'pop_keywords', 'similar', 'minus', 'num_subdomains',\n",
    "       'mean_urls_per_subdomain', 'mean_path_depth_per_subdomain',\n",
    "       'mean_query_parameters_per_subdomain_paths',\n",
    "       'mean_path_length_per_subdomain_paths',\n",
    "       'mean_number_of_popular_keywords_per_subdomain_paths', 'url_length',\n",
    "       '#dots_in_path', '#brands_in_path',\n",
    "       '#similar_keywords_in_path', '#suspicious_keywords_in_path',\n",
    "       'Alexa_Rank_Avg', 'Is_FQDN_In_Alexa_1Year']]"
   ]
  },
  {
   "cell_type": "code",
   "execution_count": 7,
   "metadata": {},
   "outputs": [],
   "source": [
    "df = df.fillna(0)"
   ]
  },
  {
   "cell_type": "code",
   "execution_count": 8,
   "metadata": {
    "scrolled": true
   },
   "outputs": [],
   "source": [
    "from sklearn import preprocessing\n",
    "label_encoder = preprocessing.LabelEncoder()\n",
    "\n",
    "df['ns_matching'] = label_encoder.fit_transform(df['ns_matching'])\n",
    "# df['soa_matching'] = label_encoder.fit_transform(df['soa_matching'])\n",
    "df['response_code'] = label_encoder.fit_transform(df['response_code'])\n",
    "df['rlength'] = label_encoder.fit_transform(df['rlength'])\n",
    "df['url_after_redirects'] = label_encoder.fit_transform(df['url_after_redirects'])\n",
    "df['domain_malicious'] = label_encoder.fit_transform(df['domain_malicious'])\n",
    "df['suspicious_tld'] = label_encoder.fit_transform(df['suspicious_tld'])\n",
    "# df['is_idn'] = label_encoder.fit_transform(df['is_idn'])\n",
    "df['label'] = label_encoder.fit_transform(df['label'])"
   ]
  },
  {
   "cell_type": "code",
   "execution_count": 9,
   "metadata": {},
   "outputs": [],
   "source": [
    "from sklearn.model_selection import train_test_split\n",
    "\n",
    "train, test = train_test_split(df, test_size=0.1)"
   ]
  },
  {
   "cell_type": "code",
   "execution_count": 10,
   "metadata": {},
   "outputs": [
    {
     "name": "stdout",
     "output_type": "stream",
     "text": [
      "Full data set\n",
      "Number of Attacker Created\t1157\n",
      "Number of Compromised\t613\n",
      "\n",
      "Train\n",
      "Number of Attacker Created\t1050\n",
      "Number of Compromised\t543\n",
      "\n",
      "Test\n",
      "Number of Attacker Created\t107\n",
      "Number of Compromised\t70\n",
      "\n"
     ]
    }
   ],
   "source": [
    "print('Full data set\\nNumber of Attacker Created\\t{}\\nNumber of Compromised\\t{}\\n'.format(df.loc[df.label==1].shape[0], df.loc[df.label==0].shape[0]))\n",
    "print('Train\\nNumber of Attacker Created\\t{}\\nNumber of Compromised\\t{}\\n'.format(train.loc[train.label==1].shape[0], train.loc[train.label==0].shape[0]))\n",
    "print('Test\\nNumber of Attacker Created\\t{}\\nNumber of Compromised\\t{}\\n'.format(test.loc[test.label==1].shape[0], test.loc[test.label==0].shape[0]))"
   ]
  },
  {
   "cell_type": "code",
   "execution_count": 12,
   "metadata": {},
   "outputs": [],
   "source": [
    "oversample = imblearn.over_sampling.SMOTE(k_neighbors=20)\n",
    "X_train, Y_train = oversample.fit_resample(train[['vt_duration', 'vt_count', 'vt_mal_count',\n",
    "       'vt_ratio', '#query', '#ip', '#ns',\n",
    "       'ns_matching', '#soa', 'positives',\n",
    "       'response_code', 'rlength', 'url_after_redirects',\n",
    "       'domain_malicious', 'suspicious_tld', 'length', 'entropy', 'fake_tld',\n",
    "       'brand', 'pop_keywords', 'similar', 'minus', 'num_subdomains',\n",
    "       'mean_urls_per_subdomain', 'mean_path_depth_per_subdomain',\n",
    "       'mean_query_parameters_per_subdomain_paths',\n",
    "       'mean_path_length_per_subdomain_paths',\n",
    "       'mean_number_of_popular_keywords_per_subdomain_paths', 'url_length',\n",
    "       '#dots_in_path', '#brands_in_path',\n",
    "       '#similar_keywords_in_path', '#suspicious_keywords_in_path',\n",
    "       'Alexa_Rank_Avg', 'Is_FQDN_In_Alexa_1Year']], train.label)"
   ]
  },
  {
   "cell_type": "code",
   "execution_count": 13,
   "metadata": {},
   "outputs": [],
   "source": [
    "\n",
    "X_test = test[['vt_duration', 'vt_count', 'vt_mal_count',\n",
    "       'vt_ratio', '#query', '#ip', '#ns',\n",
    "       'ns_matching', '#soa', 'positives',\n",
    "       'response_code', 'rlength', 'url_after_redirects',\n",
    "       'domain_malicious', 'suspicious_tld', 'length', 'entropy', 'fake_tld',\n",
    "       'brand', 'pop_keywords', 'similar', 'minus', 'num_subdomains',\n",
    "       'mean_urls_per_subdomain', 'mean_path_depth_per_subdomain',\n",
    "       'mean_query_parameters_per_subdomain_paths',\n",
    "       'mean_path_length_per_subdomain_paths',\n",
    "       'mean_number_of_popular_keywords_per_subdomain_paths', 'url_length',\n",
    "       '#dots_in_path', '#brands_in_path',\n",
    "       '#similar_keywords_in_path', '#suspicious_keywords_in_path',\n",
    "       'Alexa_Rank_Avg', 'Is_FQDN_In_Alexa_1Year']]\n",
    "\n",
    "Y_test = test.label\n"
   ]
  },
  {
   "cell_type": "code",
   "execution_count": 14,
   "metadata": {},
   "outputs": [
    {
     "name": "stdout",
     "output_type": "stream",
     "text": [
      "Logistic Regression : 0.7740112994350282  precision :  0.8073394495412844  recall :  0.822429906542056\n",
      "Decision Tree Classification : 0.943502824858757  precision :  0.9532710280373832  recall :  0.9532710280373832\n",
      "Gradient Boosting Classification : 0.9717514124293786  precision :  0.9811320754716981  recall :  0.9719626168224299\n",
      "Ada Boosting Classification : 0.9548022598870056  precision :  0.9805825242718447  recall :  0.9439252336448598\n",
      "Extra Tree Classification : 0.96045197740113  precision :  0.9716981132075472  recall :  0.9626168224299065\n",
      "K-Neighbors Classification : 0.7231638418079096  precision :  0.79  recall :  0.7383177570093458\n",
      "Support Vector Classification : 0.768361581920904  precision :  0.7796610169491526  recall :  0.8598130841121495\n",
      "RandomForestClassifier :  0.9717514124293786  precision :  0.9722222222222222  recall :  0.9813084112149533\n"
     ]
    }
   ],
   "source": [
    "classifiers=[['Logistic Regression :',LogisticRegression()],\n",
    "       ['Decision Tree Classification :',DecisionTreeClassifier()],\n",
    "       ['Gradient Boosting Classification :', GradientBoostingClassifier()],\n",
    "       ['Ada Boosting Classification :',AdaBoostClassifier()],\n",
    "       ['Extra Tree Classification :', ExtraTreesClassifier()],\n",
    "       ['K-Neighbors Classification :',KNeighborsClassifier()],\n",
    "       ['Support Vector Classification :',SVC()],\n",
    "       ['RandomForestClassifier : ',RandomForestClassifier()],      \n",
    "      ]\n",
    "cla_pred=[]\n",
    "for name,model in classifiers:\n",
    "    model=model\n",
    "    model.fit(X_train,Y_train)\n",
    "    predictions = model.predict(X_test)\n",
    "    cla_pred.append(accuracy_score(Y_test,predictions))\n",
    "    print(name,accuracy_score(Y_test,predictions),' precision : ',precision_score(Y_test,predictions),' recall : ',recall_score(Y_test,predictions))"
   ]
  },
  {
   "cell_type": "code",
   "execution_count": 15,
   "metadata": {},
   "outputs": [],
   "source": [
    "RFC = RandomForestClassifier()"
   ]
  },
  {
   "cell_type": "code",
   "execution_count": 16,
   "metadata": {},
   "outputs": [
    {
     "name": "stdout",
     "output_type": "stream",
     "text": [
      "Fitting 5 folds for each of 100 candidates, totalling 500 fits\n"
     ]
    },
    {
     "name": "stderr",
     "output_type": "stream",
     "text": [
      "[Parallel(n_jobs=100)]: Using backend LokyBackend with 100 concurrent workers.\n",
      "[Parallel(n_jobs=100)]: Done 250 tasks      | elapsed:   17.4s\n",
      "[Parallel(n_jobs=100)]: Done 500 out of 500 | elapsed:   29.7s finished\n"
     ]
    },
    {
     "name": "stdout",
     "output_type": "stream",
     "text": [
      "Best Estimators: 801\n",
      "Best Max Depth: 901\n"
     ]
    }
   ],
   "source": [
    "from sklearn.model_selection import GridSearchCV\n",
    "\n",
    "n_estimators = list(range(1,1001,100))\n",
    "max_depth = list(range(1,1001,100))\n",
    "\n",
    "hyperparameters = dict(max_depth=max_depth, n_estimators=n_estimators)\n",
    "h_rfmodel = GridSearchCV(RFC, hyperparameters, cv=5,n_jobs=100, verbose=1)\n",
    "\n",
    "best_logmodel=h_rfmodel.fit(X_train,Y_train)\n",
    "\n",
    "n_estimators = best_logmodel.best_estimator_.get_params()['n_estimators']\n",
    "max_depth = best_logmodel.best_estimator_.get_params()['max_depth']\n",
    "\n",
    "print('Best Estimators:', n_estimators)\n",
    "print('Best Max Depth:', max_depth)"
   ]
  },
  {
   "cell_type": "code",
   "execution_count": 17,
   "metadata": {},
   "outputs": [],
   "source": [
    "RFC = RandomForestClassifier(max_depth=max_depth, n_estimators=n_estimators)\n",
    "RFC.fit(X_train,Y_train)\n",
    "predictions_RFC = RFC.predict(X_test)"
   ]
  },
  {
   "cell_type": "code",
   "execution_count": 18,
   "metadata": {},
   "outputs": [
    {
     "name": "stdout",
     "output_type": "stream",
     "text": [
      "Random Forest 0.9717514124293786  precision :  0.9722222222222222  recall :  0.9813084112149533 \n",
      "\n",
      "              precision    recall  f1-score   support\n",
      "\n",
      "           0       0.97      0.96      0.96        70\n",
      "           1       0.97      0.98      0.98       107\n",
      "\n",
      "    accuracy                           0.97       177\n",
      "   macro avg       0.97      0.97      0.97       177\n",
      "weighted avg       0.97      0.97      0.97       177\n",
      "\n"
     ]
    }
   ],
   "source": [
    "print('Random Forest',accuracy_score(Y_test,predictions_RFC),' precision : ',precision_score(Y_test,predictions_RFC),' recall : ',recall_score(Y_test,predictions_RFC),'\\n')\n",
    "print(classification_report(Y_test,predictions_RFC))"
   ]
  },
  {
   "cell_type": "code",
   "execution_count": 19,
   "metadata": {
    "scrolled": true
   },
   "outputs": [
    {
     "data": {
      "image/png": "[encoded data removed]",
      "text/plain": [
       "<Figure size 432x288 with 1 Axes>"
      ]
     },
     "metadata": {
      "needs_background": "light"
     },
     "output_type": "display_data"
    }
   ],
   "source": [
    "plt.title(\"Random Forest Confusion Matrix\")\n",
    "sns.heatmap(confusion_matrix(Y_test, predictions_RFC),annot=True,cmap=\"Blues\",fmt=\"g\",cbar=False)\n",
    "plt.savefig('attacker_created_compromised_classifier_confusion_matrix_gt2.png')\n",
    "plt.show()"
   ]
  },
  {
   "cell_type": "code",
   "execution_count": 20,
   "metadata": {},
   "outputs": [
    {
     "data": {
      "image/png": "[encoded data removed]",
      "text/plain": [
       "<Figure size 720x720 with 1 Axes>"
      ]
     },
     "metadata": {
      "needs_background": "light"
     },
     "output_type": "display_data"
    }
   ],
   "source": [
    "false_positive_rate_RFC, true_positive_rate_RFC, thresholds_RFC = roc_curve(Y_test,RFC.predict_proba(X_test)[:,1])\n",
    "skplt.metrics.plot_roc_curve(Y_test.values,RFC.predict_proba(X_test), figsize = (10,10))\n",
    "plt.savefig('attacker_created_compromised_classifier_roc_gt2.png')\n",
    "plt.show()"
   ]
  },
  {
   "cell_type": "code",
   "execution_count": 21,
   "metadata": {},
   "outputs": [
    {
     "data": {
      "image/png": "[encoded data removed]",
      "text/plain": [
       "<Figure size 432x288 with 1 Axes>"
      ]
     },
     "metadata": {
      "needs_background": "light"
     },
     "output_type": "display_data"
    }
   ],
   "source": [
    "from sklearn.metrics import precision_recall_curve\n",
    "from sklearn.metrics import plot_precision_recall_curve\n",
    "import matplotlib.pyplot as plt\n",
    "\n",
    "disp = plot_precision_recall_curve(RFC, X_test, Y_test)\n",
    "plt.savefig('attacker_created_compromised_classifier_precision_recall_curve_gt2.png')"
   ]
  },
  {
   "cell_type": "code",
   "execution_count": 22,
   "metadata": {
    "scrolled": false
   },
   "outputs": [
    {
     "name": "stdout",
     "output_type": "stream",
     "text": [
      "Feature ranking:\n",
      "1. feature 13 - domain_malicious (0.1651788513041494)\n",
      "2. feature 24 - mean_path_depth_per_subdomain (0.1334172252301799)\n",
      "3. feature 26 - mean_path_length_per_subdomain_paths (0.09476483142631664)\n",
      "4. feature 30 - #brands_in_path (0.07406729389578003)\n",
      "5. feature 18 - brand (0.06566845666832544)\n",
      "6. feature 20 - similar (0.04764833471270462)\n",
      "7. feature 23 - mean_urls_per_subdomain (0.04715448501190323)\n",
      "8. feature 9 - positives (0.042695975373807794)\n",
      "9. feature 0 - vt_duration (0.03278115067953201)\n",
      "10. feature 21 - minus (0.029520368352821576)\n",
      "11. feature 28 - url_length (0.025058689840611128)\n",
      "12. feature 15 - length (0.02494738416218468)\n",
      "13. feature 2 - vt_mal_count (0.022844190325797806)\n",
      "14. feature 4 - #query (0.021454692138344465)\n",
      "15. feature 1 - vt_count (0.020848163605718877)\n",
      "16. feature 16 - entropy (0.020081447930967073)\n",
      "17. feature 5 - #ip (0.01908545689459701)\n",
      "18. feature 3 - vt_ratio (0.017317630887156845)\n",
      "19. feature 10 - response_code (0.015151169405758088)\n",
      "20. feature 11 - rlength (0.0150586374688681)\n",
      "21. feature 12 - url_after_redirects (0.014312983914214348)\n",
      "22. feature 6 - #ns (0.009820184111071774)\n",
      "23. feature 19 - pop_keywords (0.00886338899187142)\n",
      "24. feature 8 - #soa (0.00884099790819006)\n",
      "25. feature 7 - ns_matching (0.006969800875421462)\n",
      "26. feature 29 - #dots_in_path (0.004845930435852131)\n",
      "27. feature 22 - num_subdomains (0.004204619460959715)\n",
      "28. feature 33 - Alexa_Rank_Avg (0.002773241077668156)\n",
      "29. feature 25 - mean_query_parameters_per_subdomain_paths (0.0018054803239190788)\n",
      "30. feature 17 - fake_tld (0.0016564863712430955)\n",
      "31. feature 27 - mean_number_of_popular_keywords_per_subdomain_paths (0.00046809040601016836)\n",
      "32. feature 14 - suspicious_tld (0.000326347428244909)\n",
      "33. feature 32 - #suspicious_keywords_in_path (0.0002791095525617763)\n",
      "34. feature 31 - #similar_keywords_in_path (8.890382724720559e-05)\n",
      "35. feature 34 - Is_FQDN_In_Alexa_1Year (0.0)\n"
     ]
    },
    {
     "data": {
      "image/png": "[encoded data removed]",
      "text/plain": [
       "<Figure size 720x720 with 1 Axes>"
      ]
     },
     "metadata": {
      "needs_background": "light"
     },
     "output_type": "display_data"
    }
   ],
   "source": [
    "import numpy as np\n",
    "importances = RFC.feature_importances_\n",
    "std = np.std([RFC.feature_importances_ for tree in RFC.estimators_],\n",
    "             axis=0)\n",
    "indices = np.argsort(importances)[::-1]\n",
    "print(\"Feature ranking:\")\n",
    "Feature = ['vt_duration', 'vt_count', 'vt_mal_count',\n",
    "       'vt_ratio', '#query', '#ip', '#ns',\n",
    "       'ns_matching', '#soa', 'positives',\n",
    "       'response_code', 'rlength', 'url_after_redirects',\n",
    "       'domain_malicious', 'suspicious_tld', 'length', 'entropy', 'fake_tld',\n",
    "       'brand', 'pop_keywords', 'similar', 'minus', 'num_subdomains',\n",
    "       'mean_urls_per_subdomain', 'mean_path_depth_per_subdomain',\n",
    "       'mean_query_parameters_per_subdomain_paths',\n",
    "       'mean_path_length_per_subdomain_paths',\n",
    "       'mean_number_of_popular_keywords_per_subdomain_paths', 'url_length',\n",
    "       '#dots_in_path', '#brands_in_path',\n",
    "       '#similar_keywords_in_path', '#suspicious_keywords_in_path',\n",
    "       'Alexa_Rank_Avg', 'Is_FQDN_In_Alexa_1Year']\n",
    "for f in range(X_train.shape[1]):\n",
    "    print(\"{}. feature {} - {} ({})\" .format(f + 1, indices[f], Feature[indices[f]], importances[indices[f]]))\n",
    "indiceX = [Feature[i] for i in indices]\n",
    "plt.figure(figsize=(10,10))\n",
    "plt.title(\"Feature importances ~ All features\")\n",
    "plt.bar(range(X_train.shape[1]), importances[indices],\n",
    "       color=\"g\", yerr=std[indices], align=\"center\")\n",
    "plt.xticks(range(X_train.shape[1]), indiceX, rotation=90)\n",
    "plt.xlim([-1, X_train.shape[1]])\n",
    "# plt.savefig('attacker_created_compromised_classifier_feature_importances_gt2.png')\n",
    "plt.show()"
   ]
  },
  {
   "cell_type": "code",
   "execution_count": 23,
   "metadata": {},
   "outputs": [],
   "source": [
    "import pickle\n",
    "pickle.dump(RFC,open('attacker_created_compromised_classifier_public_smote_.pickle','wb'))"
   ]
  },
  {
   "cell_type": "code",
   "execution_count": null,
   "metadata": {},
   "outputs": [],
   "source": []
  },
  {
   "cell_type": "code",
   "execution_count": null,
   "metadata": {},
   "outputs": [],
   "source": []
  },
  {
   "cell_type": "code",
   "execution_count": null,
   "metadata": {},
   "outputs": [],
   "source": []
  }
 ],
 "metadata": {
  "kernelspec": {
   "display_name": "Python 3",
   "language": "python",
   "name": "python3"
  },
  "language_info": {
   "codemirror_mode": {
    "name": "ipython",
    "version": 3
   },
   "file_extension": ".py",
   "mimetype": "text/x-python",
   "name": "python",
   "nbconvert_exporter": "python",
   "pygments_lexer": "ipython3",
   "version": "3.6.9"
  }
 },
 "nbformat": 4,
 "nbformat_minor": 2
}
