{
 "cells": [
  {
   "cell_type": "code",
   "execution_count": 1,
   "metadata": {
    "scrolled": true
   },
   "outputs": [],
   "source": [
    "import pandas as pd\n",
    "\n",
    "import seaborn as sns\n",
    "import matplotlib.pyplot as plt\n",
    "import scikitplot as skplt\n",
    "\n",
    "import warnings\n",
    "import imblearn\n",
    "\n",
    "from sklearn.linear_model import LogisticRegression\n",
    "from sklearn.tree import DecisionTreeClassifier\n",
    "from sklearn.ensemble import RandomForestClassifier\n",
    "from sklearn.ensemble import GradientBoostingClassifier\n",
    "from sklearn.ensemble import AdaBoostClassifier\n",
    "from sklearn.ensemble import ExtraTreesClassifier\n",
    "from sklearn.neighbors import KNeighborsClassifier\n",
    "from sklearn.svm import SVC\n",
    "from sklearn.naive_bayes import MultinomialNB\n",
    "\n",
    "from sklearn.metrics import accuracy_score\n",
    "from sklearn.metrics import precision_score\n",
    "from sklearn.metrics import recall_score\n",
    "from sklearn.metrics import confusion_matrix\n",
    "from sklearn.metrics import classification_report\n",
    "from sklearn.metrics import roc_curve\n",
    "from sklearn.metrics import auc"
   ]
  },
  {
   "cell_type": "code",
   "execution_count": 2,
   "metadata": {},
   "outputs": [],
   "source": [
    "warnings.filterwarnings(\"ignore\")"
   ]
  },
  {
   "cell_type": "code",
   "execution_count": 3,
   "metadata": {
    "scrolled": true
   },
   "outputs": [],
   "source": [
    "df = pd.read_csv('GT2_NEW.csv')"
   ]
  },
  {
   "cell_type": "code",
   "execution_count": 4,
   "metadata": {
    "scrolled": true
   },
   "outputs": [
    {
     "data": {
      "text/plain": [
       "Index(['Unnamed: 0', 'Unnamed: 0.1', 'Unnamed: 0.1.1', 'apex', 'fqdns',\n",
       "       'firstseen-pdns', 'lastseen-pdns', 'days count-pdns', 'query count',\n",
       "       'name servers', 'ns domain', 'soa_domains_nos', 'soa_domain',\n",
       "       'suspicious_tld', 'length', 'entropy', 'fake_tld', 'brand',\n",
       "       'pop_keywords', 'similar', 'is_idn', 'minus', 'num_subdomains',\n",
       "       'Number_of_total_Scans', 'Number_of_Benign_Scans',\n",
       "       'apex_marked_malicious', 'domain_marked_malicious',\n",
       "       'sibling_domain_marked_malicious', 'Number_of_query_parameters',\n",
       "       'Positive_count', 'Response_code', 'URL_after_redirects', 'resolution',\n",
       "       'rlength', 'url_length',\n",
       "       'number of days between firstseen and lastseen', 'Label',\n",
       "       'Alexa rank (avg)', 'url', 'mean_urls_per_subdomain',\n",
       "       'mean_path_depth_per_subdomain',\n",
       "       'mean_query_parameters_per_subdomain_paths',\n",
       "       'mean_path_length_per_subdomain_paths',\n",
       "       'mean_number_of_popular_keywords_per_subdomain_paths',\n",
       "       '#query_parameters', '#dots_in_path', '#brands_in_path',\n",
       "       '#similar_keywords_in_path', '#suspicious_keywords_in_path'],\n",
       "      dtype='object')"
      ]
     },
     "execution_count": 4,
     "metadata": {},
     "output_type": "execute_result"
    }
   ],
   "source": [
    "df.columns"
   ]
  },
  {
   "cell_type": "code",
   "execution_count": 5,
   "metadata": {},
   "outputs": [
    {
     "name": "stdout",
     "output_type": "stream",
     "text": [
      "Attacker-Created Compromised Data set 2\n",
      "Size of the data set 1418\n",
      "Size of the Attacker-Created set 833\n",
      "Size of the Compromised set 585\n"
     ]
    }
   ],
   "source": [
    "print('Attacker-Created Compromised Data set 2')\n",
    "print('Size of the data set {}'.format(df.shape[0]))\n",
    "print('Size of the Attacker-Created set {}'.format(df.loc[df.Label=='AC'].shape[0]))\n",
    "print('Size of the Compromised set {}'.format(df.loc[df.Label=='COMP'].shape[0]))"
   ]
  },
  {
   "cell_type": "code",
   "execution_count": 6,
   "metadata": {
    "scrolled": true
   },
   "outputs": [],
   "source": [
    "df = df[['apex', 'fqdns',\n",
    "       'firstseen-pdns', 'lastseen-pdns', 'days count-pdns', 'query count',\n",
    "       'name servers', 'ns domain', 'soa_domains_nos', 'soa_domain',\n",
    "       'suspicious_tld', 'length', 'entropy', 'fake_tld', 'brand',\n",
    "       'pop_keywords', 'similar', 'minus', 'num_subdomains', 'Label',\n",
    "       'Number_of_total_Scans', 'Number_of_Benign_Scans',\n",
    "       'apex_marked_malicious', 'domain_marked_malicious',\n",
    "       'sibling_domain_marked_malicious', 'Number_of_query_parameters',\n",
    "       'Positive_count', 'Response_code', 'URL_after_redirects', 'resolution',\n",
    "       'rlength', 'url_length',\n",
    "       'number of days between firstseen and lastseen', 'Alexa rank (avg)',\n",
    "       'url', '#query_parameters', '#dots_in_path', '#brands_in_path',\n",
    "       '#similar_keywords_in_path', '#suspicious_keywords_in_path']]"
   ]
  },
  {
   "cell_type": "code",
   "execution_count": 7,
   "metadata": {
    "scrolled": true
   },
   "outputs": [],
   "source": [
    "data = []\n",
    "for index, row in df.iterrows():\n",
    "    try:\n",
    "        row.rlength = float(row.rlength)\n",
    "        data.append(row)\n",
    "    except:\n",
    "        row.rlength = -1\n",
    "        data.append(row)\n",
    "    try:\n",
    "        row.url_length  = float(row.url_length)\n",
    "    except:\n",
    "        row.url_length  = float(len(row.fqdns))\n",
    "data = pd.DataFrame(data)        "
   ]
  },
  {
   "cell_type": "code",
   "execution_count": 8,
   "metadata": {
    "scrolled": false
   },
   "outputs": [
    {
     "data": {
      "text/plain": [
       "apex                                              object\n",
       "fqdns                                             object\n",
       "firstseen-pdns                                    object\n",
       "lastseen-pdns                                     object\n",
       "days count-pdns                                    int64\n",
       "query count                                        int64\n",
       "name servers                                       int64\n",
       "ns domain                                         object\n",
       "soa_domains_nos                                    int64\n",
       "soa_domain                                        object\n",
       "suspicious_tld                                    object\n",
       "length                                             int64\n",
       "entropy                                          float64\n",
       "fake_tld                                           int64\n",
       "brand                                              int64\n",
       "pop_keywords                                       int64\n",
       "similar                                            int64\n",
       "minus                                              int64\n",
       "num_subdomains                                     int64\n",
       "Label                                             object\n",
       "Number_of_total_Scans                            float64\n",
       "Number_of_Benign_Scans                           float64\n",
       "apex_marked_malicious                            float64\n",
       "domain_marked_malicious                          float64\n",
       "sibling_domain_marked_malicious                  float64\n",
       "Number_of_query_parameters                         int64\n",
       "Positive_count                                     int64\n",
       "Response_code                                     object\n",
       "URL_after_redirects                                 bool\n",
       "resolution                                        object\n",
       "rlength                                          float64\n",
       "url_length                                       float64\n",
       "number of days between firstseen and lastseen      int64\n",
       "Alexa rank (avg)                                 float64\n",
       "url                                               object\n",
       "#query_parameters                                  int64\n",
       "#dots_in_path                                      int64\n",
       "#brands_in_path                                    int64\n",
       "#similar_keywords_in_path                          int64\n",
       "#suspicious_keywords_in_path                       int64\n",
       "dtype: object"
      ]
     },
     "execution_count": 8,
     "metadata": {},
     "output_type": "execute_result"
    }
   ],
   "source": [
    "data.dtypes"
   ]
  },
  {
   "cell_type": "code",
   "execution_count": 9,
   "metadata": {
    "scrolled": true
   },
   "outputs": [],
   "source": [
    "from sklearn import preprocessing\n",
    "label_encoder = preprocessing.LabelEncoder()\n",
    "data['suspicious_tld'] = label_encoder.fit_transform(data['suspicious_tld'])\n",
    "data['Label'] = label_encoder.fit_transform(data['Label'])\n",
    "data['ns domain'] = label_encoder.fit_transform(data['ns domain'])\n",
    "data['soa_domain'] = label_encoder.fit_transform(data['soa_domain'])\n",
    "\n",
    "data['Response_code'] = label_encoder.fit_transform(data['Response_code'])\n",
    "data['URL_after_redirects'] = label_encoder.fit_transform(data['URL_after_redirects'])\n",
    "# data['is_idn'] = label_encoder.fit_transform(data['is_idn'])"
   ]
  },
  {
   "cell_type": "code",
   "execution_count": 10,
   "metadata": {},
   "outputs": [],
   "source": [
    "data['days count-pdns'] = data['days count-pdns']/( data['days count-pdns'].max()-data['days count-pdns'].min())\n",
    "data['number of days between firstseen and lastseen'] = data['number of days between firstseen and lastseen']/(data['number of days between firstseen and lastseen'].max()-data['number of days between firstseen and lastseen'].min())"
   ]
  },
  {
   "cell_type": "code",
   "execution_count": 11,
   "metadata": {},
   "outputs": [],
   "source": [
    "df = data"
   ]
  },
  {
   "cell_type": "code",
   "execution_count": 12,
   "metadata": {},
   "outputs": [],
   "source": [
    "from sklearn.model_selection import train_test_split\n",
    "\n",
    "train, test = train_test_split(df, test_size=0.1)"
   ]
  },
  {
   "cell_type": "code",
   "execution_count": 13,
   "metadata": {},
   "outputs": [
    {
     "name": "stdout",
     "output_type": "stream",
     "text": [
      "Full data set\n",
      "Number of Attacker Created\t833\n",
      "Number of Compromised\t585\n",
      "\n",
      "Train\n",
      "Number of Attacker Created\t747\n",
      "Number of Compromised\t529\n",
      "\n",
      "Test\n",
      "Number of Attacker Created\t86\n",
      "Number of Compromised\t56\n",
      "\n"
     ]
    }
   ],
   "source": [
    "print('Full data set\\nNumber of Attacker Created\\t{}\\nNumber of Compromised\\t{}\\n'.format(df.loc[df.Label==0].shape[0], df.loc[df.Label==1].shape[0]))\n",
    "print('Train\\nNumber of Attacker Created\\t{}\\nNumber of Compromised\\t{}\\n'.format(train.loc[train.Label==0].shape[0], train.loc[train.Label==1].shape[0]))\n",
    "print('Test\\nNumber of Attacker Created\\t{}\\nNumber of Compromised\\t{}\\n'.format(test.loc[test.Label==0].shape[0], test.loc[test.Label==1].shape[0]))"
   ]
  },
  {
   "cell_type": "code",
   "execution_count": 14,
   "metadata": {},
   "outputs": [],
   "source": [
    "oversample = imblearn.over_sampling.SMOTE(k_neighbors=20)\n",
    "X_train, Y_train = oversample.fit_resample(train[[\n",
    "        'days count-pdns', 'query count',\n",
    "       'name servers', 'ns domain', 'soa_domains_nos', 'soa_domain',\n",
    "       'suspicious_tld', 'length', 'entropy', 'fake_tld', 'brand',\n",
    "       'pop_keywords', 'similar' ,'minus', 'num_subdomains',\n",
    "       'Number_of_total_Scans', 'Number_of_Benign_Scans',\n",
    "       'apex_marked_malicious', 'domain_marked_malicious',\n",
    "       'sibling_domain_marked_malicious', 'Number_of_query_parameters',\n",
    "       'Positive_count', 'Response_code', 'URL_after_redirects',\n",
    "       'rlength', 'url_length',\n",
    "       'number of days between firstseen and lastseen', 'Alexa rank (avg)',\n",
    "       '#query_parameters', '#dots_in_path', '#brands_in_path',\n",
    "       '#similar_keywords_in_path', '#suspicious_keywords_in_path'\n",
    "]], train.Label)"
   ]
  },
  {
   "cell_type": "code",
   "execution_count": 15,
   "metadata": {},
   "outputs": [],
   "source": [
    " X_test  = test[[\n",
    "        'days count-pdns', 'query count',\n",
    "       'name servers', 'ns domain', 'soa_domains_nos', 'soa_domain',\n",
    "       'suspicious_tld', 'length', 'entropy', 'fake_tld', 'brand',\n",
    "       'pop_keywords', 'similar' ,'minus', 'num_subdomains',\n",
    "       'Number_of_total_Scans', 'Number_of_Benign_Scans',\n",
    "       'apex_marked_malicious', 'domain_marked_malicious',\n",
    "       'sibling_domain_marked_malicious', 'Number_of_query_parameters',\n",
    "       'Positive_count', 'Response_code', 'URL_after_redirects',\n",
    "       'rlength', 'url_length',\n",
    "       'number of days between firstseen and lastseen', 'Alexa rank (avg)',\n",
    "       '#query_parameters', '#dots_in_path', '#brands_in_path',\n",
    "       '#similar_keywords_in_path', '#suspicious_keywords_in_path'\n",
    "]]\n",
    "Y_test = test.Label"
   ]
  },
  {
   "cell_type": "code",
   "execution_count": 31,
   "metadata": {},
   "outputs": [
    {
     "name": "stdout",
     "output_type": "stream",
     "text": [
      "Logistic Regression : 0.8591549295774648  precision :  0.8461538461538461  recall :  0.7857142857142857\n",
      "Decision Tree Classification : 0.9647887323943662  precision :  0.9636363636363636  recall :  0.9464285714285714\n",
      "Gradient Boosting Classification : 0.9647887323943662  precision :  1.0  recall :  0.9107142857142857\n",
      "Ada Boosting Classification : 0.9647887323943662  precision :  0.9636363636363636  recall :  0.9464285714285714\n",
      "Extra Tree Classification : 0.9577464788732394  precision :  0.9807692307692307  recall :  0.9107142857142857\n",
      "K-Neighbors Classification : 0.7746478873239436  precision :  0.7  recall :  0.75\n",
      "Support Vector Classification : 0.7535211267605634  precision :  0.7441860465116279  recall :  0.5714285714285714\n",
      "RandomForestClassifier :  0.9647887323943662  precision :  1.0  recall :  0.9107142857142857\n"
     ]
    }
   ],
   "source": [
    "classifiers=[['Logistic Regression :',LogisticRegression()],\n",
    "       ['Decision Tree Classification :',DecisionTreeClassifier()],\n",
    "       ['Gradient Boosting Classification :', GradientBoostingClassifier()],\n",
    "       ['Ada Boosting Classification :',AdaBoostClassifier()],\n",
    "       ['Extra Tree Classification :', ExtraTreesClassifier()],\n",
    "       ['K-Neighbors Classification :',KNeighborsClassifier()],\n",
    "       ['Support Vector Classification :',SVC()],\n",
    "       ['RandomForestClassifier : ',RandomForestClassifier()],      \n",
    "      ]\n",
    "cla_pred=[]\n",
    "for name,model in classifiers:\n",
    "    model=model\n",
    "    model.fit(X_train,Y_train)\n",
    "    predictions = model.predict(X_test)\n",
    "    cla_pred.append(accuracy_score(Y_test,predictions))\n",
    "    print(name,accuracy_score(Y_test,predictions),' precision : ',precision_score(Y_test,predictions),' recall : ',recall_score(Y_test,predictions))"
   ]
  },
  {
   "cell_type": "code",
   "execution_count": 32,
   "metadata": {},
   "outputs": [
    {
     "name": "stdout",
     "output_type": "stream",
     "text": [
      "GT 1 LogisticRegression - Only Alexa 0.7535211267605634  precision :  0.9333333333333333  recall :  0.45901639344262296\n",
      "GT 1 LogisticRegression - Only PDNS 0.5704225352112676  precision :  0.0  recall :  0.0\n",
      "GT 1 LogisticRegression - Both PDNS & Alexa 0.7535211267605634  precision :  0.9333333333333333  recall :  0.45901639344262296\n"
     ]
    }
   ],
   "source": [
    "X_trainLR1, X_testLR1, Y_trainLR1, Y_testLR1 = train_test_split(data[['Alexa rank (avg)']\n",
    "], data.Label, test_size = 0.20, random_state = 0)\n",
    "\n",
    "from sklearn.linear_model import LogisticRegression\n",
    "\n",
    "model1=LogisticRegression()\n",
    "model1.fit(X_trainLR1,Y_trainLR1)\n",
    "predictionsLR1 = model1.predict(X_testLR1)\n",
    "print('GT 1 LogisticRegression - Only Alexa',accuracy_score(Y_testLR1,predictionsLR1),' precision : ',precision_score(Y_testLR1,predictionsLR1),' recall : ',recall_score(Y_testLR1,predictionsLR1))\n",
    "\n",
    "\n",
    "X_trainLR2, X_testLR2, Y_trainLR2, Y_testLR2 = train_test_split(data[['days count-pdns']\n",
    "], data.Label, test_size = 0.20, random_state = 0)\n",
    "\n",
    "\n",
    "model2=LogisticRegression()\n",
    "model2.fit(X_trainLR2,Y_trainLR2)\n",
    "predictionsLR2 = model2.predict(X_testLR2)\n",
    "print('GT 1 LogisticRegression - Only PDNS',accuracy_score(Y_testLR2,predictionsLR2),' precision : ',precision_score(Y_testLR2,predictionsLR2),' recall : ',recall_score(Y_testLR2,predictionsLR2))\n",
    "\n",
    "X_trainLR3, X_testLR3, Y_trainLR3, Y_testLR3 = train_test_split(data[['Alexa rank (avg)', 'days count-pdns']\n",
    "], data.Label, test_size = 0.20, random_state = 0)\n",
    "\n",
    "\n",
    "model3=LogisticRegression()\n",
    "model3.fit(X_trainLR3,Y_trainLR3)\n",
    "predictionsLR3 = model3.predict(X_testLR3)\n",
    "print('GT 1 LogisticRegression - Both PDNS & Alexa',accuracy_score(Y_testLR3,predictionsLR3),' precision : ',precision_score(Y_testLR3,predictionsLR3),' recall : ',recall_score(Y_testLR3,predictionsLR3))"
   ]
  },
  {
   "cell_type": "code",
   "execution_count": 33,
   "metadata": {},
   "outputs": [],
   "source": [
    "RFC = RandomForestClassifier()"
   ]
  },
  {
   "cell_type": "code",
   "execution_count": 34,
   "metadata": {},
   "outputs": [
    {
     "name": "stdout",
     "output_type": "stream",
     "text": [
      "Fitting 5 folds for each of 100 candidates, totalling 500 fits\n"
     ]
    },
    {
     "name": "stderr",
     "output_type": "stream",
     "text": [
      "[Parallel(n_jobs=100)]: Using backend LokyBackend with 100 concurrent workers.\n",
      "[Parallel(n_jobs=100)]: Done 250 tasks      | elapsed:   13.9s\n",
      "[Parallel(n_jobs=100)]: Done 500 out of 500 | elapsed:   22.1s finished\n"
     ]
    },
    {
     "name": "stdout",
     "output_type": "stream",
     "text": [
      "Best Estimators: 801\n",
      "Best Max Depth: 301\n"
     ]
    }
   ],
   "source": [
    "from sklearn.model_selection import GridSearchCV\n",
    "\n",
    "n_estimators = list(range(1,1001,100))\n",
    "max_depth = list(range(1,1001,100))\n",
    "\n",
    "hyperparameters = dict(max_depth=max_depth, n_estimators=n_estimators)\n",
    "h_rfmodel = GridSearchCV(RFC, hyperparameters, cv=5,n_jobs=100, verbose=1)\n",
    "\n",
    "best_logmodel=h_rfmodel.fit(X_train,Y_train)\n",
    "\n",
    "n_estimators = best_logmodel.best_estimator_.get_params()['n_estimators']\n",
    "max_depth = best_logmodel.best_estimator_.get_params()['max_depth']\n",
    "\n",
    "print('Best Estimators:', n_estimators)\n",
    "print('Best Max Depth:', max_depth)"
   ]
  },
  {
   "cell_type": "code",
   "execution_count": 35,
   "metadata": {},
   "outputs": [],
   "source": [
    "RFC = RandomForestClassifier(max_depth=max_depth, n_estimators=n_estimators)\n",
    "RFC.fit(X_train,Y_train)\n",
    "predictions_RFC = RFC.predict(X_test)"
   ]
  },
  {
   "cell_type": "code",
   "execution_count": 36,
   "metadata": {},
   "outputs": [
    {
     "name": "stdout",
     "output_type": "stream",
     "text": [
      "Random Forest 0.9647887323943662  precision :  1.0  recall :  0.9107142857142857 \n",
      "\n",
      "              precision    recall  f1-score   support\n",
      "\n",
      "           0       0.95      1.00      0.97        86\n",
      "           1       1.00      0.91      0.95        56\n",
      "\n",
      "    accuracy                           0.96       142\n",
      "   macro avg       0.97      0.96      0.96       142\n",
      "weighted avg       0.97      0.96      0.96       142\n",
      "\n"
     ]
    }
   ],
   "source": [
    "print('Random Forest',accuracy_score(Y_test,predictions_RFC),' precision : ',precision_score(Y_test,predictions_RFC),' recall : ',recall_score(Y_test,predictions_RFC),'\\n')\n",
    "print(classification_report(Y_test,predictions_RFC))"
   ]
  },
  {
   "cell_type": "code",
   "execution_count": 37,
   "metadata": {},
   "outputs": [
    {
     "data": {
      "image/png": "[encoded data removed]",
      "text/plain": [
       "<Figure size 432x288 with 1 Axes>"
      ]
     },
     "metadata": {
      "needs_background": "light"
     },
     "output_type": "display_data"
    }
   ],
   "source": [
    "plt.title(\"Random Forest Confusion Matrix\")\n",
    "sns.heatmap(confusion_matrix(Y_test, predictions_RFC),annot=True,cmap=\"Blues\",fmt=\"g\",cbar=False)\n",
    "# plt.savefig('attacker_created_compromised_classifier_confusion_matrix_gt1.png')\n",
    "plt.show()"
   ]
  },
  {
   "cell_type": "code",
   "execution_count": 38,
   "metadata": {},
   "outputs": [
    {
     "data": {
      "image/png": "[encoded data removed]",
      "text/plain": [
       "<Figure size 720x720 with 1 Axes>"
      ]
     },
     "metadata": {
      "needs_background": "light"
     },
     "output_type": "display_data"
    }
   ],
   "source": [
    "false_positive_rate_RFC, true_positive_rate_RFC, thresholds_RFC = roc_curve(Y_test,RFC.predict_proba(X_test)[:,1])\n",
    "skplt.metrics.plot_roc_curve(Y_test.values,RFC.predict_proba(X_test), figsize = (10,10))\n",
    "# plt.savefig('attacker_created_compromised_classifier_roc_gt1.png')\n",
    "plt.show()"
   ]
  },
  {
   "cell_type": "code",
   "execution_count": 39,
   "metadata": {},
   "outputs": [
    {
     "data": {
      "image/png": "[encoded data removed]",
      "text/plain": [
       "<Figure size 432x288 with 1 Axes>"
      ]
     },
     "metadata": {
      "needs_background": "light"
     },
     "output_type": "display_data"
    }
   ],
   "source": [
    "from sklearn.metrics import precision_recall_curve\n",
    "from sklearn.metrics import plot_precision_recall_curve\n",
    "import matplotlib.pyplot as plt\n",
    "\n",
    "disp = plot_precision_recall_curve(RFC, X_test, Y_test)\n",
    "# plt.savefig('attacker_created_compromised_classifier_precision_recall_curve_gt1.png')"
   ]
  },
  {
   "cell_type": "code",
   "execution_count": 40,
   "metadata": {
    "scrolled": false
   },
   "outputs": [
    {
     "name": "stdout",
     "output_type": "stream",
     "text": [
      "Feature ranking:\n",
      "1. feature 0 - days count-pdns (0.1523847585156476)\n",
      "2. feature 17 - apex_marked_malicious (0.1015124396048556)\n",
      "3. feature 15 - Number_of_total_Scans (0.09902903524687076)\n",
      "4. feature 30 - #brands_in_path (0.09043908156391312)\n",
      "5. feature 18 - domain_marked_malicious (0.08374214853111492)\n",
      "6. feature 10 - brand (0.07967540062191444)\n",
      "7. feature 26 - number of days between firstseen and lastseen (0.07047605285119589)\n",
      "8. feature 27 - Alexa rank (avg) (0.06433911516358322)\n",
      "9. feature 12 - similar (0.05411627253107642)\n",
      "10. feature 6 - suspicious_tld (0.03275353622809202)\n",
      "11. feature 24 - rlength (0.021628006700592246)\n",
      "12. feature 8 - entropy (0.021158111075018134)\n",
      "13. feature 25 - url_length (0.017114406982894178)\n",
      "14. feature 7 - length (0.014541175238283854)\n",
      "15. feature 21 - Positive_count (0.012863037785022196)\n",
      "16. feature 13 - minus (0.011487167873377316)\n",
      "17. feature 1 - query count (0.010990555548701814)\n",
      "18. feature 22 - Response_code (0.010701162831456461)\n",
      "19. feature 4 - soa_domains_nos (0.009816057091371351)\n",
      "20. feature 11 - pop_keywords (0.0087399943492724)\n",
      "21. feature 2 - name servers (0.007340956984643345)\n",
      "22. feature 19 - sibling_domain_marked_malicious (0.006357133798673563)\n",
      "23. feature 29 - #dots_in_path (0.005014512488276389)\n",
      "24. feature 16 - Number_of_Benign_Scans (0.0034962749571894594)\n",
      "25. feature 14 - num_subdomains (0.003200350257586514)\n",
      "26. feature 5 - soa_domain (0.0022213301313246947)\n",
      "27. feature 23 - URL_after_redirects (0.001549080532903964)\n",
      "28. feature 28 - #query_parameters (0.0008501713177487671)\n",
      "29. feature 31 - #similar_keywords_in_path (0.0007060033810697699)\n",
      "30. feature 20 - Number_of_query_parameters (0.000688309764003225)\n",
      "31. feature 9 - fake_tld (0.0005924147688284786)\n",
      "32. feature 32 - #suspicious_keywords_in_path (0.00047578542699914925)\n",
      "33. feature 3 - ns domain (1.5985649863160222e-07)\n"
     ]
    },
    {
     "data": {
      "image/png": "[encoded data removed]",
      "text/plain": [
       "<Figure size 720x720 with 1 Axes>"
      ]
     },
     "metadata": {
      "needs_background": "light"
     },
     "output_type": "display_data"
    }
   ],
   "source": [
    "import numpy as np\n",
    "importances = RFC.feature_importances_\n",
    "std = np.std([RFC.feature_importances_ for tree in RFC.estimators_],\n",
    "             axis=0)\n",
    "indices = np.argsort(importances)[::-1]\n",
    "print(\"Feature ranking:\")\n",
    "Feature = [\n",
    "        'days count-pdns', 'query count',\n",
    "       'name servers', 'ns domain', 'soa_domains_nos', 'soa_domain',\n",
    "       'suspicious_tld', 'length', 'entropy', 'fake_tld', 'brand',\n",
    "       'pop_keywords', 'similar', 'minus', 'num_subdomains',\n",
    "       'Number_of_total_Scans', 'Number_of_Benign_Scans',\n",
    "       'apex_marked_malicious', 'domain_marked_malicious',\n",
    "       'sibling_domain_marked_malicious', 'Number_of_query_parameters',\n",
    "       'Positive_count', 'Response_code', 'URL_after_redirects',\n",
    "       'rlength', 'url_length',\n",
    "       'number of days between firstseen and lastseen', 'Alexa rank (avg)',\n",
    "       '#query_parameters', '#dots_in_path', '#brands_in_path',\n",
    "       '#similar_keywords_in_path', '#suspicious_keywords_in_path'\n",
    "]\n",
    "for f in range(X_train.shape[1]):\n",
    "    print(\"{}. feature {} - {} ({})\" .format(f + 1, indices[f], Feature[indices[f]], importances[indices[f]]))\n",
    "indiceX = [Feature[i] for i in indices]\n",
    "plt.figure(figsize=(10,10))\n",
    "plt.title(\"Feature importances ~ All features\")\n",
    "plt.bar(range(X_train.shape[1]), importances[indices],\n",
    "       color=\"g\", yerr=std[indices], align=\"center\")\n",
    "plt.xticks(range(X_train.shape[1]), indiceX, rotation=90)\n",
    "plt.xlim([-1, X_train.shape[1]])\n",
    "# plt.savefig('attacker_created_compromised_classifier_feature_importances_gt1.png')\n",
    "plt.show()"
   ]
  },
  {
   "cell_type": "code",
   "execution_count": 41,
   "metadata": {},
   "outputs": [],
   "source": [
    "import pickle\n",
    "# pickle.dump(RFC,open('attacker_created_compromised_classifier_rf_gt_1.pickle','wb'))"
   ]
  },
  {
   "cell_type": "code",
   "execution_count": null,
   "metadata": {},
   "outputs": [],
   "source": []
  },
  {
   "cell_type": "code",
   "execution_count": null,
   "metadata": {},
   "outputs": [],
   "source": []
  }
 ],
 "metadata": {
  "kernelspec": {
   "display_name": "Python 3",
   "language": "python",
   "name": "python3"
  },
  "language_info": {
   "codemirror_mode": {
    "name": "ipython",
    "version": 3
   },
   "file_extension": ".py",
   "mimetype": "text/x-python",
   "name": "python",
   "nbconvert_exporter": "python",
   "pygments_lexer": "ipython3",
   "version": "3.6.9"
  }
 },
 "nbformat": 4,
 "nbformat_minor": 2
}
